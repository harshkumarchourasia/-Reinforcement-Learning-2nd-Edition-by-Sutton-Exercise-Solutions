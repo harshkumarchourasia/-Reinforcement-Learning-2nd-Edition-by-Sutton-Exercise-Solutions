{
 "cells": [
  {
   "cell_type": "code",
   "execution_count": 1,
   "metadata": {},
   "outputs": [],
   "source": [
    "import numpy as np\n",
    "import pandas as pd\n",
    "import random\n",
    "import matplotlib.pyplot as plt \n",
    "np.random.seed(42)"
   ]
  },
  {
   "cell_type": "markdown",
   "metadata": {},
   "source": [
    "VALUE ITERATION"
   ]
  },
  {
   "cell_type": "code",
   "execution_count": 70,
   "metadata": {},
   "outputs": [
    {
     "name": "stdout",
     "output_type": "stream",
     "text": [
      "number of times the loop ran is  61\n"
     ]
    },
    {
     "data": {
      "text/plain": [
       "[<matplotlib.lines.Line2D at 0x7f2053d08310>]"
      ]
     },
     "execution_count": 70,
     "metadata": {},
     "output_type": "execute_result"
    },
    {
     "data": {
      "image/png": "[encoded data removed]",
      "text/plain": [
       "<Figure size 432x288 with 2 Axes>"
      ]
     },
     "metadata": {
      "needs_background": "light"
     },
     "output_type": "display_data"
    }
   ],
   "source": [
    "p=0.25\n",
    "theta = 0.000000000000001\n",
    "delta = 0\n",
    "cnt = 0\n",
    "old_v = np.zeros(101)\n",
    "new_v = np.zeros(101)\n",
    "policy = np.zeros(101)\n",
    "while True:\n",
    "    cnt = cnt+1\n",
    "    delta = 0\n",
    "    for state in range(1,100):\n",
    "        old_v[state] = new_v[state]\n",
    "        new_v[state]=0\n",
    "        for action in range(min(state, 100-state)+1):\n",
    "            new_state_1 = state+action\n",
    "            new_state_2 = state-action\n",
    "            value=0\n",
    "            if(new_state_1==100):\n",
    "                value = p*(1+old_v[new_state_1])\n",
    "            else:\n",
    "                value = p*(old_v[new_state_1])\n",
    "            value = value + (1-p)*(old_v[new_state_2])\n",
    "            new_v[state] = max(new_v[state], value)\n",
    "            delta = max(delta, abs(new_v[state] - old_v[state]))\n",
    "    if delta<theta:\n",
    "        break\n",
    "    if cnt==1000:\n",
    "        break\n",
    "print(\"number of times the loop ran is \",cnt)\n",
    "for state in range(1,100):\n",
    "    max_v=0\n",
    "    pol = 0\n",
    "    for action in range(min(state, 100-state)+1):\n",
    "        new_state_1 = state+action\n",
    "        new_state_2 = state-action\n",
    "        value=0\n",
    "        if(new_state_1==100):\n",
    "            value = p*(1+old_v[new_state_1])\n",
    "        else:\n",
    "            value = p*(old_v[new_state_1])\n",
    "        value = value + (1-p)*(old_v[new_state_2])     \n",
    "        if(value>max_v):\n",
    "            max_v = value\n",
    "            policy[state] = action \n",
    "s=[]\n",
    "p=[]\n",
    "v=[]\n",
    "for state in range(1,100):\n",
    "    s.append(state)\n",
    "    p.append(int(policy[state]))\n",
    "    v.append(new_v[state])\n",
    "fig, ax = plt.subplots(2)\n",
    "ax[0].plot(s,v)\n",
    "ax[1].plot(s,p)"
   ]
  },
  {
   "cell_type": "code",
   "execution_count": 67,
   "metadata": {},
   "outputs": [
    {
     "name": "stdout",
     "output_type": "stream",
     "text": [
      "number of times the loop ran is  1000\n"
     ]
    },
    {
     "data": {
      "text/plain": [
       "[<matplotlib.lines.Line2D at 0x7f2053ea8c50>]"
      ]
     },
     "execution_count": 67,
     "metadata": {},
     "output_type": "execute_result"
    },
    {
     "data": {
      "image/png": "[encoded data removed]",
      "text/plain": [
       "<Figure size 432x288 with 2 Axes>"
      ]
     },
     "metadata": {
      "needs_background": "light"
     },
     "output_type": "display_data"
    }
   ],
   "source": [
    "p=0.55\n",
    "theta = 0.00000000000001\n",
    "delta = 0\n",
    "cnt = 0\n",
    "old_v = np.zeros(101)\n",
    "new_v = np.zeros(101)\n",
    "policy = np.zeros(101)\n",
    "while True:\n",
    "    cnt = cnt+1\n",
    "    delta = 0\n",
    "    for state in range(1,100):\n",
    "        old_v[state] = new_v[state]\n",
    "        new_v[state]=0\n",
    "        for action in range(min(state, 100-state)+1):\n",
    "            new_state_1 = state+action\n",
    "            new_state_2 = state-action\n",
    "            value=0\n",
    "            if(new_state_1==100):\n",
    "                value = p*(1+old_v[new_state_1])\n",
    "            else:\n",
    "                value = p*(old_v[new_state_1])\n",
    "            value = value + (1-p)*(old_v[new_state_2])\n",
    "            new_v[state] = max(new_v[state], value)\n",
    "            delta = max(delta, abs(new_v[state] - old_v[state]))\n",
    "    if delta<theta:\n",
    "        break\n",
    "    if cnt==1000:\n",
    "        break\n",
    "print(\"number of times the loop ran is \",cnt)\n",
    "for state in range(1,100):\n",
    "    max_v=0\n",
    "    pol = 0\n",
    "    for action in range(min(state, 100-state)+1):\n",
    "        new_state_1 = state+action\n",
    "        new_state_2 = state-action\n",
    "        value=0\n",
    "        if(new_state_1==100):\n",
    "            value = p*(1+old_v[new_state_1])\n",
    "        else:\n",
    "            value = p*(old_v[new_state_1])\n",
    "        value = value + (1-p)*(old_v[new_state_2])     \n",
    "        if(value>max_v):\n",
    "            max_v = value\n",
    "            policy[state] = action \n",
    "s=[]\n",
    "p=[]\n",
    "v=[]\n",
    "for state in range(1,100):\n",
    "    s.append(state)\n",
    "    p.append(int(policy[state]))\n",
    "    v.append(new_v[state])\n",
    "fig, ax = plt.subplots(2)\n",
    "ax[0].plot(s,v)\n",
    "ax[1].plot(s,p)"
   ]
  }
 ],
 "metadata": {
  "kernelspec": {
   "display_name": "Python 3",
   "language": "python",
   "name": "python3"
  },
  "language_info": {
   "codemirror_mode": {
    "name": "ipython",
    "version": 3
   },
   "file_extension": ".py",
   "mimetype": "text/x-python",
   "name": "python",
   "nbconvert_exporter": "python",
   "pygments_lexer": "ipython3",
   "version": "3.7.4"
  }
 },
 "nbformat": 4,
 "nbformat_minor": 2
}
