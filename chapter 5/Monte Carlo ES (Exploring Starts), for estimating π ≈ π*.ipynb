{
 "cells": [
  {
   "cell_type": "code",
   "execution_count": 1,
   "metadata": {},
   "outputs": [
    {
     "name": "stderr",
     "output_type": "stream",
     "text": [
      "[2020-04-28 15:38:32,640] Making new env: Blackjack-v0\n",
      "/home/harsh/anaconda3/envs/DEEPRL/lib/python3.5/site-packages/gym/envs/registration.py:17: PkgResourcesDeprecationWarning: Parameters to load are deprecated.  Call .resolve and .require separately.\n",
      "  result = entry_point.load(False)\n"
     ]
    }
   ],
   "source": [
    "import gym\n",
    "import numpy as np\n",
    "from numpy import random\n",
    "env = gym.make('Blackjack-v0')"
   ]
  },
  {
   "cell_type": "code",
   "execution_count": 2,
   "metadata": {},
   "outputs": [],
   "source": [
    "def strategy(state):\n",
    "    i,j,k = state\n",
    "    if Q[i,j,k,0].any()>Q[i,j,k,1].any():\n",
    "        res = 0\n",
    "    else:\n",
    "        res = 1\n",
    "    return res \n",
    "def generate_episode(episode,done):\n",
    "    state,action,reward = episode[0]\n",
    "    while done is False:\n",
    "        state, reward, done, info = env.step(action)\n",
    "        episode.append(tupletolist(state))\n",
    "        action = strategy(state)\n",
    "        episode.append(action)\n",
    "        episode.append(reward) \n",
    "    return episode\n",
    "def generate_episode2(state):\n",
    "    episode=[]\n",
    "    done = False\n",
    "    while done is False:\n",
    "        episode.append(tupletolist(state))\n",
    "        action = strategy(state)\n",
    "        episode.append(action)\n",
    "        state, reward, done, info = env.step(action)\n",
    "        episode.append(reward) \n",
    "    return episode\n",
    "def update_action_value_and_pi(episode):\n",
    "    for s in range(len(episode)-3,-1,-3):\n",
    "        s0,s1,s2,ac,ret = episode[s][0],episode[s][1],episode[s][2],episode[s+1], episode[s+2]\n",
    "        Q[s0,s1,s2,ac] += 1.0*(ret- Q[s0,s1,s2,ac])/count_n[s0,s1,s2,ac]\n",
    "        count_n[s0,s1,s2,ac]+=1\n",
    "        if Q[s0,s1,s2,0].any()>=Q[s0,s1,s2,1].any():\n",
    "            pi[s0,s1,s2] = 0\n",
    "        else: \n",
    "            pi[s0,s1,s2] = 1 \n",
    "def tupletolist(state):\n",
    "    res=[state[0],state[1]]\n",
    "    if(state[2]==False):\n",
    "        res.append(0)\n",
    "    else:\n",
    "        res.append(1)\n",
    "    return res"
   ]
  },
  {
   "cell_type": "code",
   "execution_count": 3,
   "metadata": {},
   "outputs": [],
   "source": [
    "def train():\n",
    "    for i in range(1,33):\n",
    "        for j in range(1,12):\n",
    "            for k in [False,True]:\n",
    "                for act in range(2):\n",
    "                    for itr in range(2):\n",
    "                        G=0\n",
    "                        episode = []\n",
    "                        state = (i,j,k)\n",
    "                        episode.append(tupletolist(state))\n",
    "                        state, reward, done, info = env.step(act)\n",
    "                        episode.append(act)\n",
    "                        episode.append(reward)\n",
    "                        episode = generate_episode(episode,done)\n",
    "                        update_action_value_and_pi(episode)                                    \n",
    "    for itr in range(500000):\n",
    "        episode = []\n",
    "        state = env.reset()\n",
    "        episode = generate_episode2(state)\n",
    "        update_action_value_and_pi(episode)"
   ]
  },
  {
   "cell_type": "code",
   "execution_count": 4,
   "metadata": {},
   "outputs": [],
   "source": [
    "#initialize\n",
    "pi = random.randint(2, size=(33,12,2))\n",
    "Q = np.zeros((33,12,2,2))\n",
    "for i in range(33):\n",
    "    for j in range(12):\n",
    "        for k in range(2):\n",
    "            for l in range(2):\n",
    "                Q[i,j,k,l] = random.rand()*2\n",
    "count_n = np.ones((33,12,2,2))  # see exercise 5.4\n",
    "train()"
   ]
  },
  {
   "cell_type": "code",
   "execution_count": 5,
   "metadata": {},
   "outputs": [],
   "source": [
    "def plot_policy(policy):\n",
    "\n",
    "    def get_Z(x, y, usable_ace):\n",
    "        if (x,y,usable_ace) in policy:\n",
    "            return policy[x,y,usable_ace]\n",
    "        else:\n",
    "            return 1\n",
    "\n",
    "    def get_figure(usable_ace, ax):\n",
    "        x_range = np.arange(11, 22)\n",
    "        y_range = np.arange(10, 0, -1)\n",
    "        X, Y = np.meshgrid(x_range, y_range)\n",
    "        Z = np.array([[get_Z(x,y,usable_ace) for x in x_range] for y in y_range])\n",
    "        surf = ax.imshow(Z, cmap=plt.get_cmap('Pastel2', 2), vmin=0, vmax=1, extent=[10.5, 21.5, 0.5, 10.5])\n",
    "        plt.xticks(x_range)\n",
    "        plt.yticks(y_range)\n",
    "        plt.gca().invert_yaxis()\n",
    "        ax.set_xlabel('Player\\'s Current Sum')\n",
    "        ax.set_ylabel('Dealer\\'s Showing Card')\n",
    "        ax.grid(color='w', linestyle='-', linewidth=1)\n",
    "        divider = make_axes_locatable(ax)\n",
    "        cax = divider.append_axes(\"right\", size=\"5%\", pad=0.1)\n",
    "        cbar = plt.colorbar(surf, ticks=[0,1], cax=cax)\n",
    "        cbar.ax.set_yticklabels(['0 (STICK)','1 (HIT)'])\n",
    "            \n",
    "    fig = plt.figure(figsize=(15, 15))\n",
    "    ax = fig.add_subplot(121)\n",
    "    ax.set_title('Usable Ace')\n",
    "    get_figure(True, ax)\n",
    "    ax = fig.add_subplot(122)\n",
    "    ax.set_title('No Usable Ace')\n",
    "    get_figure(False, ax)\n",
    "    plt.show()"
   ]
  },
  {
   "cell_type": "code",
   "execution_count": 7,
   "metadata": {},
   "outputs": [],
   "source": [
    "usable_ace = pi[:,:,1]"
   ]
  },
  {
   "cell_type": "code",
   "execution_count": 8,
   "metadata": {},
   "outputs": [
    {
     "data": {
      "text/plain": [
       "array([[0, 1, 0, 0, 0, 0, 0, 1, 1, 1, 1, 0],\n",
       "       [0, 0, 0, 0, 0, 0, 0, 0, 0, 0, 0, 0],\n",
       "       [0, 0, 0, 0, 0, 0, 0, 0, 0, 0, 0, 0],\n",
       "       [0, 0, 0, 0, 0, 0, 0, 0, 0, 0, 0, 0],\n",
       "       [1, 0, 0, 0, 0, 0, 0, 0, 0, 0, 0, 0],\n",
       "       [0, 0, 0, 0, 0, 0, 0, 0, 0, 0, 0, 0],\n",
       "       [1, 0, 0, 0, 0, 0, 0, 0, 0, 0, 0, 0],\n",
       "       [1, 0, 0, 0, 0, 0, 0, 0, 0, 0, 0, 0],\n",
       "       [0, 0, 0, 0, 0, 0, 0, 0, 0, 0, 0, 0],\n",
       "       [0, 0, 0, 0, 0, 0, 0, 0, 0, 0, 0, 0],\n",
       "       [1, 0, 0, 0, 0, 0, 0, 0, 0, 0, 0, 0],\n",
       "       [0, 0, 0, 0, 0, 0, 0, 0, 0, 0, 0, 0],\n",
       "       [1, 0, 0, 0, 0, 0, 0, 0, 0, 0, 0, 0],\n",
       "       [1, 0, 0, 0, 0, 0, 0, 0, 0, 0, 0, 0],\n",
       "       [0, 0, 0, 0, 0, 0, 0, 0, 0, 0, 0, 0],\n",
       "       [1, 0, 0, 0, 0, 0, 0, 0, 0, 0, 0, 0],\n",
       "       [1, 0, 0, 0, 0, 0, 0, 0, 0, 0, 0, 0],\n",
       "       [0, 0, 0, 0, 0, 0, 0, 0, 0, 0, 0, 0],\n",
       "       [0, 0, 0, 0, 0, 0, 0, 0, 0, 0, 0, 0],\n",
       "       [0, 0, 0, 0, 0, 0, 0, 0, 0, 0, 0, 0],\n",
       "       [0, 0, 0, 0, 0, 0, 0, 0, 0, 0, 0, 0],\n",
       "       [0, 0, 0, 0, 0, 0, 0, 0, 0, 0, 0, 0],\n",
       "       [0, 0, 0, 0, 0, 0, 0, 0, 0, 0, 0, 0],\n",
       "       [1, 0, 0, 0, 0, 0, 0, 0, 0, 0, 0, 0],\n",
       "       [1, 0, 0, 0, 0, 0, 0, 0, 0, 0, 0, 0],\n",
       "       [1, 0, 0, 0, 0, 0, 0, 0, 0, 0, 0, 0],\n",
       "       [0, 0, 0, 0, 0, 0, 0, 0, 0, 0, 0, 0],\n",
       "       [0, 0, 0, 0, 0, 0, 0, 0, 0, 0, 0, 0],\n",
       "       [0, 0, 0, 0, 0, 0, 0, 0, 0, 0, 0, 0],\n",
       "       [1, 0, 0, 0, 0, 0, 0, 0, 0, 0, 0, 0],\n",
       "       [0, 0, 0, 0, 0, 0, 0, 0, 0, 0, 0, 0],\n",
       "       [0, 0, 0, 0, 0, 0, 0, 0, 0, 0, 0, 0],\n",
       "       [1, 0, 0, 0, 0, 0, 0, 0, 0, 0, 0, 0]])"
      ]
     },
     "execution_count": 8,
     "metadata": {},
     "output_type": "execute_result"
    }
   ],
   "source": [
    "usable_ace"
   ]
  },
  {
   "cell_type": "code",
   "execution_count": null,
   "metadata": {},
   "outputs": [],
   "source": []
  }
 ],
 "metadata": {
  "kernelspec": {
   "display_name": "Python 3",
   "language": "python",
   "name": "python3"
  },
  "language_info": {
   "codemirror_mode": {
    "name": "ipython",
    "version": 3
   },
   "file_extension": ".py",
   "mimetype": "text/x-python",
   "name": "python",
   "nbconvert_exporter": "python",
   "pygments_lexer": "ipython3",
   "version": "3.5.6"
  }
 },
 "nbformat": 4,
 "nbformat_minor": 4
}
